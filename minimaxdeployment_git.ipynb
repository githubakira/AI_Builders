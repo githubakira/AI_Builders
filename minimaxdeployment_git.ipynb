{
  "nbformat": 4,
  "nbformat_minor": 0,
  "metadata": {
    "colab": {
      "provenance": [],
      "authorship_tag": "ABX9TyOZjADBWlHHBbkfRIzgwiJq",
      "include_colab_link": true
    },
    "kernelspec": {
      "name": "python3",
      "display_name": "Python 3"
    },
    "language_info": {
      "name": "python"
    },
    "widgets": {
      "application/vnd.jupyter.widget-state+json": {
        "7d6e3221abb04e50a05b3476ed5b56d9": {
          "model_module": "@jupyter-widgets/controls",
          "model_name": "GridBoxModel",
          "model_module_version": "1.5.0",
          "state": {
            "_dom_classes": [],
            "_model_module": "@jupyter-widgets/controls",
            "_model_module_version": "1.5.0",
            "_model_name": "GridBoxModel",
            "_view_count": null,
            "_view_module": "@jupyter-widgets/controls",
            "_view_module_version": "1.5.0",
            "_view_name": "GridBoxView",
            "box_style": "",
            "children": [
              "IPY_MODEL_1056fd7767ed48f19dab5dc521eff176",
              "IPY_MODEL_d8fbbe6e9dea4f6ba18f93a6fc66c426",
              "IPY_MODEL_e9a48ce867fa4eeeb3b53e3ad9a5a569",
              "IPY_MODEL_9350a02236c34c7da9b0ca7eea8895e7",
              "IPY_MODEL_0177dd26ad9d4fd0a509d5835b53ae24",
              "IPY_MODEL_6bf62afa94264634a96966008a87185a",
              "IPY_MODEL_a2d6f1ba68b6487c95d61181c8c89ba5",
              "IPY_MODEL_50708bf4be4b43c3b46674b23926ddb2",
              "IPY_MODEL_47a56c5d50fe455d926396ecf242f4ef",
              "IPY_MODEL_0f53c1efad93484484ef93698d2f5c5b",
              "IPY_MODEL_acf2ef5476904e97b0e71dee1013eaa7",
              "IPY_MODEL_a4611301900549a2a0275feb49d20320",
              "IPY_MODEL_1c674243f2fe4a1986cc7f203e72e588",
              "IPY_MODEL_50fce7e890f843798fce0d7da6e0b197",
              "IPY_MODEL_e136e7653dc74713b8c47579c2a893e8",
              "IPY_MODEL_c1feebda50534e848e2515d305bfc81b",
              "IPY_MODEL_34502682f9fe4586a73d801a9df156ff",
              "IPY_MODEL_01faaf2b44624daeb062cec9c266955a",
              "IPY_MODEL_5386dfabeeea4129a836261764cd6349",
              "IPY_MODEL_dff3b599ec534aa298ae24f02062b38f",
              "IPY_MODEL_afe325d4bd784af489bb91ad8e56bf5b",
              "IPY_MODEL_67ca9683a9874529a942933790d6898c",
              "IPY_MODEL_22649be95abf48d5aa8c1053266e39ef",
              "IPY_MODEL_b8a8af115f7f42b4b923703b1c925dae",
              "IPY_MODEL_ae2af2908d6e43e798a5ba77e516b9aa",
              "IPY_MODEL_df284e3c995b41ea9a21b7b485130cfa",
              "IPY_MODEL_211ec572a344427f928772f863f20355",
              "IPY_MODEL_db55d843e62f496b90de94ebb8d6085c",
              "IPY_MODEL_de43fb0755ce480aac419707fc84325d",
              "IPY_MODEL_2870bee2dbcb47d8b4aca3993e85f5d7",
              "IPY_MODEL_3f254a312eb244648264729e4812033b",
              "IPY_MODEL_9d420556b78e45a5a01166ac45514153",
              "IPY_MODEL_bd02e8f51ced4e628d568eb45c83e4b2",
              "IPY_MODEL_b12f725c2aad4cafab7533160d5b8ce0",
              "IPY_MODEL_d308c987fdba47ea9b1af8dd40ccdde2",
              "IPY_MODEL_43615408a3ae4b5bb0cd653b8d1fba67"
            ],
            "layout": "IPY_MODEL_a6924645c11e4eb0b54328170721086a"
          }
        },
        "1056fd7767ed48f19dab5dc521eff176": {
          "model_module": "@jupyter-widgets/controls",
          "model_name": "ButtonModel",
          "model_module_version": "1.5.0",
          "state": {
            "_dom_classes": [],
            "_model_module": "@jupyter-widgets/controls",
            "_model_module_version": "1.5.0",
            "_model_name": "ButtonModel",
            "_view_count": null,
            "_view_module": "@jupyter-widgets/controls",
            "_view_module_version": "1.5.0",
            "_view_name": "ButtonView",
            "button_style": "warning",
            "description": "",
            "disabled": false,
            "icon": "",
            "layout": "IPY_MODEL_b643c75746334e889234d1c31ef0cc7f",
            "style": "IPY_MODEL_c6cacff03d8f45af8b359d8eae785f62",
            "tooltip": ""
          }
        },
        "d8fbbe6e9dea4f6ba18f93a6fc66c426": {
          "model_module": "@jupyter-widgets/controls",
          "model_name": "ButtonModel",
          "model_module_version": "1.5.0",
          "state": {
            "_dom_classes": [],
            "_model_module": "@jupyter-widgets/controls",
            "_model_module_version": "1.5.0",
            "_model_name": "ButtonModel",
            "_view_count": null,
            "_view_module": "@jupyter-widgets/controls",
            "_view_module_version": "1.5.0",
            "_view_name": "ButtonView",
            "button_style": "warning",
            "description": "",
            "disabled": false,
            "icon": "",
            "layout": "IPY_MODEL_b643c75746334e889234d1c31ef0cc7f",
            "style": "IPY_MODEL_26ec1660ee4043a0ad9fe185b93a8b73",
            "tooltip": ""
          }
        },
        "e9a48ce867fa4eeeb3b53e3ad9a5a569": {
          "model_module": "@jupyter-widgets/controls",
          "model_name": "ButtonModel",
          "model_module_version": "1.5.0",
          "state": {
            "_dom_classes": [],
            "_model_module": "@jupyter-widgets/controls",
            "_model_module_version": "1.5.0",
            "_model_name": "ButtonModel",
            "_view_count": null,
            "_view_module": "@jupyter-widgets/controls",
            "_view_module_version": "1.5.0",
            "_view_name": "ButtonView",
            "button_style": "warning",
            "description": "",
            "disabled": false,
            "icon": "",
            "layout": "IPY_MODEL_b643c75746334e889234d1c31ef0cc7f",
            "style": "IPY_MODEL_c2d9bf4c4a9948a8b3fde95af8fe6252",
            "tooltip": ""
          }
        },
        "9350a02236c34c7da9b0ca7eea8895e7": {
          "model_module": "@jupyter-widgets/controls",
          "model_name": "ButtonModel",
          "model_module_version": "1.5.0",
          "state": {
            "_dom_classes": [],
            "_model_module": "@jupyter-widgets/controls",
            "_model_module_version": "1.5.0",
            "_model_name": "ButtonModel",
            "_view_count": null,
            "_view_module": "@jupyter-widgets/controls",
            "_view_module_version": "1.5.0",
            "_view_name": "ButtonView",
            "button_style": "warning",
            "description": "",
            "disabled": false,
            "icon": "",
            "layout": "IPY_MODEL_b643c75746334e889234d1c31ef0cc7f",
            "style": "IPY_MODEL_ba66be93912e4a9dbe866ba7fda20df8",
            "tooltip": ""
          }
        },
        "0177dd26ad9d4fd0a509d5835b53ae24": {
          "model_module": "@jupyter-widgets/controls",
          "model_name": "ButtonModel",
          "model_module_version": "1.5.0",
          "state": {
            "_dom_classes": [],
            "_model_module": "@jupyter-widgets/controls",
            "_model_module_version": "1.5.0",
            "_model_name": "ButtonModel",
            "_view_count": null,
            "_view_module": "@jupyter-widgets/controls",
            "_view_module_version": "1.5.0",
            "_view_name": "ButtonView",
            "button_style": "warning",
            "description": "",
            "disabled": false,
            "icon": "",
            "layout": "IPY_MODEL_b643c75746334e889234d1c31ef0cc7f",
            "style": "IPY_MODEL_f33b33ebe81c46efaa088f7a3fa3be33",
            "tooltip": ""
          }
        },
        "6bf62afa94264634a96966008a87185a": {
          "model_module": "@jupyter-widgets/controls",
          "model_name": "ButtonModel",
          "model_module_version": "1.5.0",
          "state": {
            "_dom_classes": [],
            "_model_module": "@jupyter-widgets/controls",
            "_model_module_version": "1.5.0",
            "_model_name": "ButtonModel",
            "_view_count": null,
            "_view_module": "@jupyter-widgets/controls",
            "_view_module_version": "1.5.0",
            "_view_name": "ButtonView",
            "button_style": "warning",
            "description": "",
            "disabled": false,
            "icon": "",
            "layout": "IPY_MODEL_b643c75746334e889234d1c31ef0cc7f",
            "style": "IPY_MODEL_87410f944bca4bbbbd6dfbbeb4619e62",
            "tooltip": ""
          }
        },
        "a2d6f1ba68b6487c95d61181c8c89ba5": {
          "model_module": "@jupyter-widgets/controls",
          "model_name": "ButtonModel",
          "model_module_version": "1.5.0",
          "state": {
            "_dom_classes": [],
            "_model_module": "@jupyter-widgets/controls",
            "_model_module_version": "1.5.0",
            "_model_name": "ButtonModel",
            "_view_count": null,
            "_view_module": "@jupyter-widgets/controls",
            "_view_module_version": "1.5.0",
            "_view_name": "ButtonView",
            "button_style": "warning",
            "description": "",
            "disabled": false,
            "icon": "",
            "layout": "IPY_MODEL_b643c75746334e889234d1c31ef0cc7f",
            "style": "IPY_MODEL_1f7872eb6d044809b13e9ece3e0dd38f",
            "tooltip": ""
          }
        },
        "50708bf4be4b43c3b46674b23926ddb2": {
          "model_module": "@jupyter-widgets/controls",
          "model_name": "ButtonModel",
          "model_module_version": "1.5.0",
          "state": {
            "_dom_classes": [],
            "_model_module": "@jupyter-widgets/controls",
            "_model_module_version": "1.5.0",
            "_model_name": "ButtonModel",
            "_view_count": null,
            "_view_module": "@jupyter-widgets/controls",
            "_view_module_version": "1.5.0",
            "_view_name": "ButtonView",
            "button_style": "warning",
            "description": "",
            "disabled": false,
            "icon": "",
            "layout": "IPY_MODEL_b643c75746334e889234d1c31ef0cc7f",
            "style": "IPY_MODEL_4e26536368a7439abb1934166c869146",
            "tooltip": ""
          }
        },
        "47a56c5d50fe455d926396ecf242f4ef": {
          "model_module": "@jupyter-widgets/controls",
          "model_name": "ButtonModel",
          "model_module_version": "1.5.0",
          "state": {
            "_dom_classes": [],
            "_model_module": "@jupyter-widgets/controls",
            "_model_module_version": "1.5.0",
            "_model_name": "ButtonModel",
            "_view_count": null,
            "_view_module": "@jupyter-widgets/controls",
            "_view_module_version": "1.5.0",
            "_view_name": "ButtonView",
            "button_style": "warning",
            "description": "",
            "disabled": false,
            "icon": "",
            "layout": "IPY_MODEL_b643c75746334e889234d1c31ef0cc7f",
            "style": "IPY_MODEL_b0cf6865c2d943cd928fcc86c48660e3",
            "tooltip": ""
          }
        },
        "0f53c1efad93484484ef93698d2f5c5b": {
          "model_module": "@jupyter-widgets/controls",
          "model_name": "ButtonModel",
          "model_module_version": "1.5.0",
          "state": {
            "_dom_classes": [],
            "_model_module": "@jupyter-widgets/controls",
            "_model_module_version": "1.5.0",
            "_model_name": "ButtonModel",
            "_view_count": null,
            "_view_module": "@jupyter-widgets/controls",
            "_view_module_version": "1.5.0",
            "_view_name": "ButtonView",
            "button_style": "warning",
            "description": "",
            "disabled": false,
            "icon": "",
            "layout": "IPY_MODEL_b643c75746334e889234d1c31ef0cc7f",
            "style": "IPY_MODEL_6f531458f6f340718a199a7886f0880a",
            "tooltip": ""
          }
        },
        "acf2ef5476904e97b0e71dee1013eaa7": {
          "model_module": "@jupyter-widgets/controls",
          "model_name": "ButtonModel",
          "model_module_version": "1.5.0",
          "state": {
            "_dom_classes": [],
            "_model_module": "@jupyter-widgets/controls",
            "_model_module_version": "1.5.0",
            "_model_name": "ButtonModel",
            "_view_count": null,
            "_view_module": "@jupyter-widgets/controls",
            "_view_module_version": "1.5.0",
            "_view_name": "ButtonView",
            "button_style": "warning",
            "description": "",
            "disabled": false,
            "icon": "",
            "layout": "IPY_MODEL_b643c75746334e889234d1c31ef0cc7f",
            "style": "IPY_MODEL_30cf3ab9170d4f329d9cff59b496cac3",
            "tooltip": ""
          }
        },
        "a4611301900549a2a0275feb49d20320": {
          "model_module": "@jupyter-widgets/controls",
          "model_name": "ButtonModel",
          "model_module_version": "1.5.0",
          "state": {
            "_dom_classes": [],
            "_model_module": "@jupyter-widgets/controls",
            "_model_module_version": "1.5.0",
            "_model_name": "ButtonModel",
            "_view_count": null,
            "_view_module": "@jupyter-widgets/controls",
            "_view_module_version": "1.5.0",
            "_view_name": "ButtonView",
            "button_style": "warning",
            "description": "",
            "disabled": false,
            "icon": "",
            "layout": "IPY_MODEL_b643c75746334e889234d1c31ef0cc7f",
            "style": "IPY_MODEL_6507624ddbe64a5faf1ea4b0d10005cf",
            "tooltip": ""
          }
        },
        "1c674243f2fe4a1986cc7f203e72e588": {
          "model_module": "@jupyter-widgets/controls",
          "model_name": "ButtonModel",
          "model_module_version": "1.5.0",
          "state": {
            "_dom_classes": [],
            "_model_module": "@jupyter-widgets/controls",
            "_model_module_version": "1.5.0",
            "_model_name": "ButtonModel",
            "_view_count": null,
            "_view_module": "@jupyter-widgets/controls",
            "_view_module_version": "1.5.0",
            "_view_name": "ButtonView",
            "button_style": "warning",
            "description": "",
            "disabled": false,
            "icon": "",
            "layout": "IPY_MODEL_b643c75746334e889234d1c31ef0cc7f",
            "style": "IPY_MODEL_8d5fcad581344efeae0a9762919b4bb0",
            "tooltip": ""
          }
        },
        "50fce7e890f843798fce0d7da6e0b197": {
          "model_module": "@jupyter-widgets/controls",
          "model_name": "ButtonModel",
          "model_module_version": "1.5.0",
          "state": {
            "_dom_classes": [],
            "_model_module": "@jupyter-widgets/controls",
            "_model_module_version": "1.5.0",
            "_model_name": "ButtonModel",
            "_view_count": null,
            "_view_module": "@jupyter-widgets/controls",
            "_view_module_version": "1.5.0",
            "_view_name": "ButtonView",
            "button_style": "warning",
            "description": "",
            "disabled": false,
            "icon": "",
            "layout": "IPY_MODEL_b643c75746334e889234d1c31ef0cc7f",
            "style": "IPY_MODEL_f14fb78d6a54415aaba7b57f2e7c8ade",
            "tooltip": ""
          }
        },
        "e136e7653dc74713b8c47579c2a893e8": {
          "model_module": "@jupyter-widgets/controls",
          "model_name": "ButtonModel",
          "model_module_version": "1.5.0",
          "state": {
            "_dom_classes": [],
            "_model_module": "@jupyter-widgets/controls",
            "_model_module_version": "1.5.0",
            "_model_name": "ButtonModel",
            "_view_count": null,
            "_view_module": "@jupyter-widgets/controls",
            "_view_module_version": "1.5.0",
            "_view_name": "ButtonView",
            "button_style": "warning",
            "description": "",
            "disabled": false,
            "icon": "",
            "layout": "IPY_MODEL_b643c75746334e889234d1c31ef0cc7f",
            "style": "IPY_MODEL_a94dd0f653cb470d862420623c3d3553",
            "tooltip": ""
          }
        },
        "c1feebda50534e848e2515d305bfc81b": {
          "model_module": "@jupyter-widgets/controls",
          "model_name": "ButtonModel",
          "model_module_version": "1.5.0",
          "state": {
            "_dom_classes": [],
            "_model_module": "@jupyter-widgets/controls",
            "_model_module_version": "1.5.0",
            "_model_name": "ButtonModel",
            "_view_count": null,
            "_view_module": "@jupyter-widgets/controls",
            "_view_module_version": "1.5.0",
            "_view_name": "ButtonView",
            "button_style": "warning",
            "description": "",
            "disabled": false,
            "icon": "",
            "layout": "IPY_MODEL_b643c75746334e889234d1c31ef0cc7f",
            "style": "IPY_MODEL_2f8d1d3f251848c3a9fb0d1acce5468a",
            "tooltip": ""
          }
        },
        "34502682f9fe4586a73d801a9df156ff": {
          "model_module": "@jupyter-widgets/controls",
          "model_name": "ButtonModel",
          "model_module_version": "1.5.0",
          "state": {
            "_dom_classes": [],
            "_model_module": "@jupyter-widgets/controls",
            "_model_module_version": "1.5.0",
            "_model_name": "ButtonModel",
            "_view_count": null,
            "_view_module": "@jupyter-widgets/controls",
            "_view_module_version": "1.5.0",
            "_view_name": "ButtonView",
            "button_style": "warning",
            "description": "",
            "disabled": false,
            "icon": "",
            "layout": "IPY_MODEL_b643c75746334e889234d1c31ef0cc7f",
            "style": "IPY_MODEL_0fb7de84596b4774923449774a805a93",
            "tooltip": ""
          }
        },
        "01faaf2b44624daeb062cec9c266955a": {
          "model_module": "@jupyter-widgets/controls",
          "model_name": "ButtonModel",
          "model_module_version": "1.5.0",
          "state": {
            "_dom_classes": [],
            "_model_module": "@jupyter-widgets/controls",
            "_model_module_version": "1.5.0",
            "_model_name": "ButtonModel",
            "_view_count": null,
            "_view_module": "@jupyter-widgets/controls",
            "_view_module_version": "1.5.0",
            "_view_name": "ButtonView",
            "button_style": "warning",
            "description": "",
            "disabled": false,
            "icon": "",
            "layout": "IPY_MODEL_b643c75746334e889234d1c31ef0cc7f",
            "style": "IPY_MODEL_811638ed91914a708236f33dcefa8e1a",
            "tooltip": ""
          }
        },
        "5386dfabeeea4129a836261764cd6349": {
          "model_module": "@jupyter-widgets/controls",
          "model_name": "ButtonModel",
          "model_module_version": "1.5.0",
          "state": {
            "_dom_classes": [],
            "_model_module": "@jupyter-widgets/controls",
            "_model_module_version": "1.5.0",
            "_model_name": "ButtonModel",
            "_view_count": null,
            "_view_module": "@jupyter-widgets/controls",
            "_view_module_version": "1.5.0",
            "_view_name": "ButtonView",
            "button_style": "warning",
            "description": "",
            "disabled": false,
            "icon": "",
            "layout": "IPY_MODEL_b643c75746334e889234d1c31ef0cc7f",
            "style": "IPY_MODEL_1722e9c50e134a6a8f2df16edfb1a500",
            "tooltip": ""
          }
        },
        "dff3b599ec534aa298ae24f02062b38f": {
          "model_module": "@jupyter-widgets/controls",
          "model_name": "ButtonModel",
          "model_module_version": "1.5.0",
          "state": {
            "_dom_classes": [],
            "_model_module": "@jupyter-widgets/controls",
            "_model_module_version": "1.5.0",
            "_model_name": "ButtonModel",
            "_view_count": null,
            "_view_module": "@jupyter-widgets/controls",
            "_view_module_version": "1.5.0",
            "_view_name": "ButtonView",
            "button_style": "warning",
            "description": "",
            "disabled": false,
            "icon": "",
            "layout": "IPY_MODEL_b643c75746334e889234d1c31ef0cc7f",
            "style": "IPY_MODEL_671b442df56743dd8be1a62abbdcb843",
            "tooltip": ""
          }
        },
        "afe325d4bd784af489bb91ad8e56bf5b": {
          "model_module": "@jupyter-widgets/controls",
          "model_name": "ButtonModel",
          "model_module_version": "1.5.0",
          "state": {
            "_dom_classes": [],
            "_model_module": "@jupyter-widgets/controls",
            "_model_module_version": "1.5.0",
            "_model_name": "ButtonModel",
            "_view_count": null,
            "_view_module": "@jupyter-widgets/controls",
            "_view_module_version": "1.5.0",
            "_view_name": "ButtonView",
            "button_style": "warning",
            "description": "",
            "disabled": false,
            "icon": "",
            "layout": "IPY_MODEL_b643c75746334e889234d1c31ef0cc7f",
            "style": "IPY_MODEL_a321d541517641b3a742847028265516",
            "tooltip": ""
          }
        },
        "67ca9683a9874529a942933790d6898c": {
          "model_module": "@jupyter-widgets/controls",
          "model_name": "ButtonModel",
          "model_module_version": "1.5.0",
          "state": {
            "_dom_classes": [],
            "_model_module": "@jupyter-widgets/controls",
            "_model_module_version": "1.5.0",
            "_model_name": "ButtonModel",
            "_view_count": null,
            "_view_module": "@jupyter-widgets/controls",
            "_view_module_version": "1.5.0",
            "_view_name": "ButtonView",
            "button_style": "warning",
            "description": "",
            "disabled": false,
            "icon": "",
            "layout": "IPY_MODEL_b643c75746334e889234d1c31ef0cc7f",
            "style": "IPY_MODEL_ddba50dab4664afeaff8a123aafdf7df",
            "tooltip": ""
          }
        },
        "22649be95abf48d5aa8c1053266e39ef": {
          "model_module": "@jupyter-widgets/controls",
          "model_name": "ButtonModel",
          "model_module_version": "1.5.0",
          "state": {
            "_dom_classes": [],
            "_model_module": "@jupyter-widgets/controls",
            "_model_module_version": "1.5.0",
            "_model_name": "ButtonModel",
            "_view_count": null,
            "_view_module": "@jupyter-widgets/controls",
            "_view_module_version": "1.5.0",
            "_view_name": "ButtonView",
            "button_style": "warning",
            "description": "",
            "disabled": false,
            "icon": "",
            "layout": "IPY_MODEL_b643c75746334e889234d1c31ef0cc7f",
            "style": "IPY_MODEL_c5fd2b45b58142639812ed215bb40d15",
            "tooltip": ""
          }
        },
        "b8a8af115f7f42b4b923703b1c925dae": {
          "model_module": "@jupyter-widgets/controls",
          "model_name": "ButtonModel",
          "model_module_version": "1.5.0",
          "state": {
            "_dom_classes": [],
            "_model_module": "@jupyter-widgets/controls",
            "_model_module_version": "1.5.0",
            "_model_name": "ButtonModel",
            "_view_count": null,
            "_view_module": "@jupyter-widgets/controls",
            "_view_module_version": "1.5.0",
            "_view_name": "ButtonView",
            "button_style": "warning",
            "description": "",
            "disabled": false,
            "icon": "",
            "layout": "IPY_MODEL_b643c75746334e889234d1c31ef0cc7f",
            "style": "IPY_MODEL_ff3c9a618a0540f79e53484aea426d82",
            "tooltip": ""
          }
        },
        "ae2af2908d6e43e798a5ba77e516b9aa": {
          "model_module": "@jupyter-widgets/controls",
          "model_name": "ButtonModel",
          "model_module_version": "1.5.0",
          "state": {
            "_dom_classes": [],
            "_model_module": "@jupyter-widgets/controls",
            "_model_module_version": "1.5.0",
            "_model_name": "ButtonModel",
            "_view_count": null,
            "_view_module": "@jupyter-widgets/controls",
            "_view_module_version": "1.5.0",
            "_view_name": "ButtonView",
            "button_style": "warning",
            "description": "",
            "disabled": false,
            "icon": "",
            "layout": "IPY_MODEL_b643c75746334e889234d1c31ef0cc7f",
            "style": "IPY_MODEL_01a2d1a2a3744dfe9227b78643f39f79",
            "tooltip": ""
          }
        },
        "df284e3c995b41ea9a21b7b485130cfa": {
          "model_module": "@jupyter-widgets/controls",
          "model_name": "ButtonModel",
          "model_module_version": "1.5.0",
          "state": {
            "_dom_classes": [],
            "_model_module": "@jupyter-widgets/controls",
            "_model_module_version": "1.5.0",
            "_model_name": "ButtonModel",
            "_view_count": null,
            "_view_module": "@jupyter-widgets/controls",
            "_view_module_version": "1.5.0",
            "_view_name": "ButtonView",
            "button_style": "warning",
            "description": "",
            "disabled": false,
            "icon": "",
            "layout": "IPY_MODEL_b643c75746334e889234d1c31ef0cc7f",
            "style": "IPY_MODEL_04424c16600c413b975440575d48b7ac",
            "tooltip": ""
          }
        },
        "211ec572a344427f928772f863f20355": {
          "model_module": "@jupyter-widgets/controls",
          "model_name": "ButtonModel",
          "model_module_version": "1.5.0",
          "state": {
            "_dom_classes": [],
            "_model_module": "@jupyter-widgets/controls",
            "_model_module_version": "1.5.0",
            "_model_name": "ButtonModel",
            "_view_count": null,
            "_view_module": "@jupyter-widgets/controls",
            "_view_module_version": "1.5.0",
            "_view_name": "ButtonView",
            "button_style": "warning",
            "description": "",
            "disabled": false,
            "icon": "",
            "layout": "IPY_MODEL_b643c75746334e889234d1c31ef0cc7f",
            "style": "IPY_MODEL_1ce411f22fd84189ab9fe63a5e6897cb",
            "tooltip": ""
          }
        },
        "db55d843e62f496b90de94ebb8d6085c": {
          "model_module": "@jupyter-widgets/controls",
          "model_name": "ButtonModel",
          "model_module_version": "1.5.0",
          "state": {
            "_dom_classes": [],
            "_model_module": "@jupyter-widgets/controls",
            "_model_module_version": "1.5.0",
            "_model_name": "ButtonModel",
            "_view_count": null,
            "_view_module": "@jupyter-widgets/controls",
            "_view_module_version": "1.5.0",
            "_view_name": "ButtonView",
            "button_style": "warning",
            "description": "",
            "disabled": false,
            "icon": "",
            "layout": "IPY_MODEL_b643c75746334e889234d1c31ef0cc7f",
            "style": "IPY_MODEL_62d195a47c7f4f3981ff3925960bea3a",
            "tooltip": ""
          }
        },
        "de43fb0755ce480aac419707fc84325d": {
          "model_module": "@jupyter-widgets/controls",
          "model_name": "ButtonModel",
          "model_module_version": "1.5.0",
          "state": {
            "_dom_classes": [],
            "_model_module": "@jupyter-widgets/controls",
            "_model_module_version": "1.5.0",
            "_model_name": "ButtonModel",
            "_view_count": null,
            "_view_module": "@jupyter-widgets/controls",
            "_view_module_version": "1.5.0",
            "_view_name": "ButtonView",
            "button_style": "warning",
            "description": "",
            "disabled": false,
            "icon": "",
            "layout": "IPY_MODEL_b643c75746334e889234d1c31ef0cc7f",
            "style": "IPY_MODEL_882f3f4ddc2d4220bd03c32d4e35132a",
            "tooltip": ""
          }
        },
        "2870bee2dbcb47d8b4aca3993e85f5d7": {
          "model_module": "@jupyter-widgets/controls",
          "model_name": "ButtonModel",
          "model_module_version": "1.5.0",
          "state": {
            "_dom_classes": [],
            "_model_module": "@jupyter-widgets/controls",
            "_model_module_version": "1.5.0",
            "_model_name": "ButtonModel",
            "_view_count": null,
            "_view_module": "@jupyter-widgets/controls",
            "_view_module_version": "1.5.0",
            "_view_name": "ButtonView",
            "button_style": "warning",
            "description": "",
            "disabled": false,
            "icon": "",
            "layout": "IPY_MODEL_b643c75746334e889234d1c31ef0cc7f",
            "style": "IPY_MODEL_195346d0f51c4bc9b39b0fa83dfddd73",
            "tooltip": ""
          }
        },
        "3f254a312eb244648264729e4812033b": {
          "model_module": "@jupyter-widgets/controls",
          "model_name": "ButtonModel",
          "model_module_version": "1.5.0",
          "state": {
            "_dom_classes": [],
            "_model_module": "@jupyter-widgets/controls",
            "_model_module_version": "1.5.0",
            "_model_name": "ButtonModel",
            "_view_count": null,
            "_view_module": "@jupyter-widgets/controls",
            "_view_module_version": "1.5.0",
            "_view_name": "ButtonView",
            "button_style": "warning",
            "description": "",
            "disabled": false,
            "icon": "",
            "layout": "IPY_MODEL_b643c75746334e889234d1c31ef0cc7f",
            "style": "IPY_MODEL_b266e59c386740bd854dfabecec99017",
            "tooltip": ""
          }
        },
        "9d420556b78e45a5a01166ac45514153": {
          "model_module": "@jupyter-widgets/controls",
          "model_name": "ButtonModel",
          "model_module_version": "1.5.0",
          "state": {
            "_dom_classes": [],
            "_model_module": "@jupyter-widgets/controls",
            "_model_module_version": "1.5.0",
            "_model_name": "ButtonModel",
            "_view_count": null,
            "_view_module": "@jupyter-widgets/controls",
            "_view_module_version": "1.5.0",
            "_view_name": "ButtonView",
            "button_style": "warning",
            "description": "",
            "disabled": false,
            "icon": "",
            "layout": "IPY_MODEL_b643c75746334e889234d1c31ef0cc7f",
            "style": "IPY_MODEL_91906dade3e34f1f8904bff33b693e12",
            "tooltip": ""
          }
        },
        "bd02e8f51ced4e628d568eb45c83e4b2": {
          "model_module": "@jupyter-widgets/controls",
          "model_name": "ButtonModel",
          "model_module_version": "1.5.0",
          "state": {
            "_dom_classes": [],
            "_model_module": "@jupyter-widgets/controls",
            "_model_module_version": "1.5.0",
            "_model_name": "ButtonModel",
            "_view_count": null,
            "_view_module": "@jupyter-widgets/controls",
            "_view_module_version": "1.5.0",
            "_view_name": "ButtonView",
            "button_style": "warning",
            "description": "",
            "disabled": false,
            "icon": "",
            "layout": "IPY_MODEL_b643c75746334e889234d1c31ef0cc7f",
            "style": "IPY_MODEL_057a4e77d2404714b40dd00acd96d5a6",
            "tooltip": ""
          }
        },
        "b12f725c2aad4cafab7533160d5b8ce0": {
          "model_module": "@jupyter-widgets/controls",
          "model_name": "ButtonModel",
          "model_module_version": "1.5.0",
          "state": {
            "_dom_classes": [],
            "_model_module": "@jupyter-widgets/controls",
            "_model_module_version": "1.5.0",
            "_model_name": "ButtonModel",
            "_view_count": null,
            "_view_module": "@jupyter-widgets/controls",
            "_view_module_version": "1.5.0",
            "_view_name": "ButtonView",
            "button_style": "warning",
            "description": "",
            "disabled": false,
            "icon": "",
            "layout": "IPY_MODEL_b643c75746334e889234d1c31ef0cc7f",
            "style": "IPY_MODEL_ef905c6b1eb44a6997f5c303cbb95fd5",
            "tooltip": ""
          }
        },
        "d308c987fdba47ea9b1af8dd40ccdde2": {
          "model_module": "@jupyter-widgets/controls",
          "model_name": "ButtonModel",
          "model_module_version": "1.5.0",
          "state": {
            "_dom_classes": [],
            "_model_module": "@jupyter-widgets/controls",
            "_model_module_version": "1.5.0",
            "_model_name": "ButtonModel",
            "_view_count": null,
            "_view_module": "@jupyter-widgets/controls",
            "_view_module_version": "1.5.0",
            "_view_name": "ButtonView",
            "button_style": "warning",
            "description": "",
            "disabled": false,
            "icon": "",
            "layout": "IPY_MODEL_b643c75746334e889234d1c31ef0cc7f",
            "style": "IPY_MODEL_dfa37c98c3e94545a95d154f1913cc1c",
            "tooltip": ""
          }
        },
        "43615408a3ae4b5bb0cd653b8d1fba67": {
          "model_module": "@jupyter-widgets/controls",
          "model_name": "ButtonModel",
          "model_module_version": "1.5.0",
          "state": {
            "_dom_classes": [],
            "_model_module": "@jupyter-widgets/controls",
            "_model_module_version": "1.5.0",
            "_model_name": "ButtonModel",
            "_view_count": null,
            "_view_module": "@jupyter-widgets/controls",
            "_view_module_version": "1.5.0",
            "_view_name": "ButtonView",
            "button_style": "warning",
            "description": "",
            "disabled": false,
            "icon": "",
            "layout": "IPY_MODEL_b643c75746334e889234d1c31ef0cc7f",
            "style": "IPY_MODEL_f9145336153b4608a143ca7887cc5541",
            "tooltip": ""
          }
        },
        "a6924645c11e4eb0b54328170721086a": {
          "model_module": "@jupyter-widgets/base",
          "model_name": "LayoutModel",
          "model_module_version": "1.2.0",
          "state": {
            "_model_module": "@jupyter-widgets/base",
            "_model_module_version": "1.2.0",
            "_model_name": "LayoutModel",
            "_view_count": null,
            "_view_module": "@jupyter-widgets/base",
            "_view_module_version": "1.2.0",
            "_view_name": "LayoutView",
            "align_content": null,
            "align_items": null,
            "align_self": null,
            "border": null,
            "bottom": null,
            "display": null,
            "flex": null,
            "flex_flow": null,
            "grid_area": null,
            "grid_auto_columns": null,
            "grid_auto_flow": null,
            "grid_auto_rows": null,
            "grid_column": null,
            "grid_gap": null,
            "grid_row": null,
            "grid_template_areas": null,
            "grid_template_columns": "repeat(6, 50px)",
            "grid_template_rows": null,
            "height": null,
            "justify_content": null,
            "justify_items": null,
            "left": null,
            "margin": null,
            "max_height": null,
            "max_width": null,
            "min_height": null,
            "min_width": null,
            "object_fit": null,
            "object_position": null,
            "order": null,
            "overflow": null,
            "overflow_x": null,
            "overflow_y": null,
            "padding": null,
            "right": null,
            "top": null,
            "visibility": null,
            "width": null
          }
        },
        "b643c75746334e889234d1c31ef0cc7f": {
          "model_module": "@jupyter-widgets/base",
          "model_name": "LayoutModel",
          "model_module_version": "1.2.0",
          "state": {
            "_model_module": "@jupyter-widgets/base",
            "_model_module_version": "1.2.0",
            "_model_name": "LayoutModel",
            "_view_count": null,
            "_view_module": "@jupyter-widgets/base",
            "_view_module_version": "1.2.0",
            "_view_name": "LayoutView",
            "align_content": null,
            "align_items": null,
            "align_self": null,
            "border": "2px solid green",
            "bottom": null,
            "display": null,
            "flex": null,
            "flex_flow": null,
            "grid_area": null,
            "grid_auto_columns": null,
            "grid_auto_flow": null,
            "grid_auto_rows": null,
            "grid_column": null,
            "grid_gap": null,
            "grid_row": null,
            "grid_template_areas": null,
            "grid_template_columns": null,
            "grid_template_rows": null,
            "height": "40px",
            "justify_content": null,
            "justify_items": null,
            "left": null,
            "margin": null,
            "max_height": null,
            "max_width": null,
            "min_height": null,
            "min_width": null,
            "object_fit": null,
            "object_position": null,
            "order": null,
            "overflow": null,
            "overflow_x": null,
            "overflow_y": null,
            "padding": null,
            "right": null,
            "top": null,
            "visibility": null,
            "width": "40px"
          }
        },
        "c6cacff03d8f45af8b359d8eae785f62": {
          "model_module": "@jupyter-widgets/controls",
          "model_name": "ButtonStyleModel",
          "model_module_version": "1.5.0",
          "state": {
            "_model_module": "@jupyter-widgets/controls",
            "_model_module_version": "1.5.0",
            "_model_name": "ButtonStyleModel",
            "_view_count": null,
            "_view_module": "@jupyter-widgets/base",
            "_view_module_version": "1.2.0",
            "_view_name": "StyleView",
            "button_color": "white",
            "font_weight": ""
          }
        },
        "26ec1660ee4043a0ad9fe185b93a8b73": {
          "model_module": "@jupyter-widgets/controls",
          "model_name": "ButtonStyleModel",
          "model_module_version": "1.5.0",
          "state": {
            "_model_module": "@jupyter-widgets/controls",
            "_model_module_version": "1.5.0",
            "_model_name": "ButtonStyleModel",
            "_view_count": null,
            "_view_module": "@jupyter-widgets/base",
            "_view_module_version": "1.2.0",
            "_view_name": "StyleView",
            "button_color": "white",
            "font_weight": ""
          }
        },
        "c2d9bf4c4a9948a8b3fde95af8fe6252": {
          "model_module": "@jupyter-widgets/controls",
          "model_name": "ButtonStyleModel",
          "model_module_version": "1.5.0",
          "state": {
            "_model_module": "@jupyter-widgets/controls",
            "_model_module_version": "1.5.0",
            "_model_name": "ButtonStyleModel",
            "_view_count": null,
            "_view_module": "@jupyter-widgets/base",
            "_view_module_version": "1.2.0",
            "_view_name": "StyleView",
            "button_color": "white",
            "font_weight": ""
          }
        },
        "ba66be93912e4a9dbe866ba7fda20df8": {
          "model_module": "@jupyter-widgets/controls",
          "model_name": "ButtonStyleModel",
          "model_module_version": "1.5.0",
          "state": {
            "_model_module": "@jupyter-widgets/controls",
            "_model_module_version": "1.5.0",
            "_model_name": "ButtonStyleModel",
            "_view_count": null,
            "_view_module": "@jupyter-widgets/base",
            "_view_module_version": "1.2.0",
            "_view_name": "StyleView",
            "button_color": "white",
            "font_weight": ""
          }
        },
        "f33b33ebe81c46efaa088f7a3fa3be33": {
          "model_module": "@jupyter-widgets/controls",
          "model_name": "ButtonStyleModel",
          "model_module_version": "1.5.0",
          "state": {
            "_model_module": "@jupyter-widgets/controls",
            "_model_module_version": "1.5.0",
            "_model_name": "ButtonStyleModel",
            "_view_count": null,
            "_view_module": "@jupyter-widgets/base",
            "_view_module_version": "1.2.0",
            "_view_name": "StyleView",
            "button_color": "black",
            "font_weight": ""
          }
        },
        "87410f944bca4bbbbd6dfbbeb4619e62": {
          "model_module": "@jupyter-widgets/controls",
          "model_name": "ButtonStyleModel",
          "model_module_version": "1.5.0",
          "state": {
            "_model_module": "@jupyter-widgets/controls",
            "_model_module_version": "1.5.0",
            "_model_name": "ButtonStyleModel",
            "_view_count": null,
            "_view_module": "@jupyter-widgets/base",
            "_view_module_version": "1.2.0",
            "_view_name": "StyleView",
            "button_color": "white",
            "font_weight": ""
          }
        },
        "1f7872eb6d044809b13e9ece3e0dd38f": {
          "model_module": "@jupyter-widgets/controls",
          "model_name": "ButtonStyleModel",
          "model_module_version": "1.5.0",
          "state": {
            "_model_module": "@jupyter-widgets/controls",
            "_model_module_version": "1.5.0",
            "_model_name": "ButtonStyleModel",
            "_view_count": null,
            "_view_module": "@jupyter-widgets/base",
            "_view_module_version": "1.2.0",
            "_view_name": "StyleView",
            "button_color": "white",
            "font_weight": ""
          }
        },
        "4e26536368a7439abb1934166c869146": {
          "model_module": "@jupyter-widgets/controls",
          "model_name": "ButtonStyleModel",
          "model_module_version": "1.5.0",
          "state": {
            "_model_module": "@jupyter-widgets/controls",
            "_model_module_version": "1.5.0",
            "_model_name": "ButtonStyleModel",
            "_view_count": null,
            "_view_module": "@jupyter-widgets/base",
            "_view_module_version": "1.2.0",
            "_view_name": "StyleView",
            "button_color": "white",
            "font_weight": ""
          }
        },
        "b0cf6865c2d943cd928fcc86c48660e3": {
          "model_module": "@jupyter-widgets/controls",
          "model_name": "ButtonStyleModel",
          "model_module_version": "1.5.0",
          "state": {
            "_model_module": "@jupyter-widgets/controls",
            "_model_module_version": "1.5.0",
            "_model_name": "ButtonStyleModel",
            "_view_count": null,
            "_view_module": "@jupyter-widgets/base",
            "_view_module_version": "1.2.0",
            "_view_name": "StyleView",
            "button_color": "white",
            "font_weight": ""
          }
        },
        "6f531458f6f340718a199a7886f0880a": {
          "model_module": "@jupyter-widgets/controls",
          "model_name": "ButtonStyleModel",
          "model_module_version": "1.5.0",
          "state": {
            "_model_module": "@jupyter-widgets/controls",
            "_model_module_version": "1.5.0",
            "_model_name": "ButtonStyleModel",
            "_view_count": null,
            "_view_module": "@jupyter-widgets/base",
            "_view_module_version": "1.2.0",
            "_view_name": "StyleView",
            "button_color": "black",
            "font_weight": ""
          }
        },
        "30cf3ab9170d4f329d9cff59b496cac3": {
          "model_module": "@jupyter-widgets/controls",
          "model_name": "ButtonStyleModel",
          "model_module_version": "1.5.0",
          "state": {
            "_model_module": "@jupyter-widgets/controls",
            "_model_module_version": "1.5.0",
            "_model_name": "ButtonStyleModel",
            "_view_count": null,
            "_view_module": "@jupyter-widgets/base",
            "_view_module_version": "1.2.0",
            "_view_name": "StyleView",
            "button_color": "black",
            "font_weight": ""
          }
        },
        "6507624ddbe64a5faf1ea4b0d10005cf": {
          "model_module": "@jupyter-widgets/controls",
          "model_name": "ButtonStyleModel",
          "model_module_version": "1.5.0",
          "state": {
            "_model_module": "@jupyter-widgets/controls",
            "_model_module_version": "1.5.0",
            "_model_name": "ButtonStyleModel",
            "_view_count": null,
            "_view_module": "@jupyter-widgets/base",
            "_view_module_version": "1.2.0",
            "_view_name": "StyleView",
            "button_color": "white",
            "font_weight": ""
          }
        },
        "8d5fcad581344efeae0a9762919b4bb0": {
          "model_module": "@jupyter-widgets/controls",
          "model_name": "ButtonStyleModel",
          "model_module_version": "1.5.0",
          "state": {
            "_model_module": "@jupyter-widgets/controls",
            "_model_module_version": "1.5.0",
            "_model_name": "ButtonStyleModel",
            "_view_count": null,
            "_view_module": "@jupyter-widgets/base",
            "_view_module_version": "1.2.0",
            "_view_name": "StyleView",
            "button_color": "white",
            "font_weight": ""
          }
        },
        "f14fb78d6a54415aaba7b57f2e7c8ade": {
          "model_module": "@jupyter-widgets/controls",
          "model_name": "ButtonStyleModel",
          "model_module_version": "1.5.0",
          "state": {
            "_model_module": "@jupyter-widgets/controls",
            "_model_module_version": "1.5.0",
            "_model_name": "ButtonStyleModel",
            "_view_count": null,
            "_view_module": "@jupyter-widgets/base",
            "_view_module_version": "1.2.0",
            "_view_name": "StyleView",
            "button_color": "black",
            "font_weight": ""
          }
        },
        "a94dd0f653cb470d862420623c3d3553": {
          "model_module": "@jupyter-widgets/controls",
          "model_name": "ButtonStyleModel",
          "model_module_version": "1.5.0",
          "state": {
            "_model_module": "@jupyter-widgets/controls",
            "_model_module_version": "1.5.0",
            "_model_name": "ButtonStyleModel",
            "_view_count": null,
            "_view_module": "@jupyter-widgets/base",
            "_view_module_version": "1.2.0",
            "_view_name": "StyleView",
            "button_color": "white",
            "font_weight": ""
          }
        },
        "2f8d1d3f251848c3a9fb0d1acce5468a": {
          "model_module": "@jupyter-widgets/controls",
          "model_name": "ButtonStyleModel",
          "model_module_version": "1.5.0",
          "state": {
            "_model_module": "@jupyter-widgets/controls",
            "_model_module_version": "1.5.0",
            "_model_name": "ButtonStyleModel",
            "_view_count": null,
            "_view_module": "@jupyter-widgets/base",
            "_view_module_version": "1.2.0",
            "_view_name": "StyleView",
            "button_color": "white",
            "font_weight": ""
          }
        },
        "0fb7de84596b4774923449774a805a93": {
          "model_module": "@jupyter-widgets/controls",
          "model_name": "ButtonStyleModel",
          "model_module_version": "1.5.0",
          "state": {
            "_model_module": "@jupyter-widgets/controls",
            "_model_module_version": "1.5.0",
            "_model_name": "ButtonStyleModel",
            "_view_count": null,
            "_view_module": "@jupyter-widgets/base",
            "_view_module_version": "1.2.0",
            "_view_name": "StyleView",
            "button_color": "black",
            "font_weight": ""
          }
        },
        "811638ed91914a708236f33dcefa8e1a": {
          "model_module": "@jupyter-widgets/controls",
          "model_name": "ButtonStyleModel",
          "model_module_version": "1.5.0",
          "state": {
            "_model_module": "@jupyter-widgets/controls",
            "_model_module_version": "1.5.0",
            "_model_name": "ButtonStyleModel",
            "_view_count": null,
            "_view_module": "@jupyter-widgets/base",
            "_view_module_version": "1.2.0",
            "_view_name": "StyleView",
            "button_color": "white",
            "font_weight": ""
          }
        },
        "1722e9c50e134a6a8f2df16edfb1a500": {
          "model_module": "@jupyter-widgets/controls",
          "model_name": "ButtonStyleModel",
          "model_module_version": "1.5.0",
          "state": {
            "_model_module": "@jupyter-widgets/controls",
            "_model_module_version": "1.5.0",
            "_model_name": "ButtonStyleModel",
            "_view_count": null,
            "_view_module": "@jupyter-widgets/base",
            "_view_module_version": "1.2.0",
            "_view_name": "StyleView",
            "button_color": "white",
            "font_weight": ""
          }
        },
        "671b442df56743dd8be1a62abbdcb843": {
          "model_module": "@jupyter-widgets/controls",
          "model_name": "ButtonStyleModel",
          "model_module_version": "1.5.0",
          "state": {
            "_model_module": "@jupyter-widgets/controls",
            "_model_module_version": "1.5.0",
            "_model_name": "ButtonStyleModel",
            "_view_count": null,
            "_view_module": "@jupyter-widgets/base",
            "_view_module_version": "1.2.0",
            "_view_name": "StyleView",
            "button_color": "black",
            "font_weight": ""
          }
        },
        "a321d541517641b3a742847028265516": {
          "model_module": "@jupyter-widgets/controls",
          "model_name": "ButtonStyleModel",
          "model_module_version": "1.5.0",
          "state": {
            "_model_module": "@jupyter-widgets/controls",
            "_model_module_version": "1.5.0",
            "_model_name": "ButtonStyleModel",
            "_view_count": null,
            "_view_module": "@jupyter-widgets/base",
            "_view_module_version": "1.2.0",
            "_view_name": "StyleView",
            "button_color": "white",
            "font_weight": ""
          }
        },
        "ddba50dab4664afeaff8a123aafdf7df": {
          "model_module": "@jupyter-widgets/controls",
          "model_name": "ButtonStyleModel",
          "model_module_version": "1.5.0",
          "state": {
            "_model_module": "@jupyter-widgets/controls",
            "_model_module_version": "1.5.0",
            "_model_name": "ButtonStyleModel",
            "_view_count": null,
            "_view_module": "@jupyter-widgets/base",
            "_view_module_version": "1.2.0",
            "_view_name": "StyleView",
            "button_color": "white",
            "font_weight": ""
          }
        },
        "c5fd2b45b58142639812ed215bb40d15": {
          "model_module": "@jupyter-widgets/controls",
          "model_name": "ButtonStyleModel",
          "model_module_version": "1.5.0",
          "state": {
            "_model_module": "@jupyter-widgets/controls",
            "_model_module_version": "1.5.0",
            "_model_name": "ButtonStyleModel",
            "_view_count": null,
            "_view_module": "@jupyter-widgets/base",
            "_view_module_version": "1.2.0",
            "_view_name": "StyleView",
            "button_color": "black",
            "font_weight": ""
          }
        },
        "ff3c9a618a0540f79e53484aea426d82": {
          "model_module": "@jupyter-widgets/controls",
          "model_name": "ButtonStyleModel",
          "model_module_version": "1.5.0",
          "state": {
            "_model_module": "@jupyter-widgets/controls",
            "_model_module_version": "1.5.0",
            "_model_name": "ButtonStyleModel",
            "_view_count": null,
            "_view_module": "@jupyter-widgets/base",
            "_view_module_version": "1.2.0",
            "_view_name": "StyleView",
            "button_color": "white",
            "font_weight": ""
          }
        },
        "01a2d1a2a3744dfe9227b78643f39f79": {
          "model_module": "@jupyter-widgets/controls",
          "model_name": "ButtonStyleModel",
          "model_module_version": "1.5.0",
          "state": {
            "_model_module": "@jupyter-widgets/controls",
            "_model_module_version": "1.5.0",
            "_model_name": "ButtonStyleModel",
            "_view_count": null,
            "_view_module": "@jupyter-widgets/base",
            "_view_module_version": "1.2.0",
            "_view_name": "StyleView",
            "button_color": "white",
            "font_weight": ""
          }
        },
        "04424c16600c413b975440575d48b7ac": {
          "model_module": "@jupyter-widgets/controls",
          "model_name": "ButtonStyleModel",
          "model_module_version": "1.5.0",
          "state": {
            "_model_module": "@jupyter-widgets/controls",
            "_model_module_version": "1.5.0",
            "_model_name": "ButtonStyleModel",
            "_view_count": null,
            "_view_module": "@jupyter-widgets/base",
            "_view_module_version": "1.2.0",
            "_view_name": "StyleView",
            "button_color": "black",
            "font_weight": ""
          }
        },
        "1ce411f22fd84189ab9fe63a5e6897cb": {
          "model_module": "@jupyter-widgets/controls",
          "model_name": "ButtonStyleModel",
          "model_module_version": "1.5.0",
          "state": {
            "_model_module": "@jupyter-widgets/controls",
            "_model_module_version": "1.5.0",
            "_model_name": "ButtonStyleModel",
            "_view_count": null,
            "_view_module": "@jupyter-widgets/base",
            "_view_module_version": "1.2.0",
            "_view_name": "StyleView",
            "button_color": "black",
            "font_weight": ""
          }
        },
        "62d195a47c7f4f3981ff3925960bea3a": {
          "model_module": "@jupyter-widgets/controls",
          "model_name": "ButtonStyleModel",
          "model_module_version": "1.5.0",
          "state": {
            "_model_module": "@jupyter-widgets/controls",
            "_model_module_version": "1.5.0",
            "_model_name": "ButtonStyleModel",
            "_view_count": null,
            "_view_module": "@jupyter-widgets/base",
            "_view_module_version": "1.2.0",
            "_view_name": "StyleView",
            "button_color": "black",
            "font_weight": ""
          }
        },
        "882f3f4ddc2d4220bd03c32d4e35132a": {
          "model_module": "@jupyter-widgets/controls",
          "model_name": "ButtonStyleModel",
          "model_module_version": "1.5.0",
          "state": {
            "_model_module": "@jupyter-widgets/controls",
            "_model_module_version": "1.5.0",
            "_model_name": "ButtonStyleModel",
            "_view_count": null,
            "_view_module": "@jupyter-widgets/base",
            "_view_module_version": "1.2.0",
            "_view_name": "StyleView",
            "button_color": "white",
            "font_weight": ""
          }
        },
        "195346d0f51c4bc9b39b0fa83dfddd73": {
          "model_module": "@jupyter-widgets/controls",
          "model_name": "ButtonStyleModel",
          "model_module_version": "1.5.0",
          "state": {
            "_model_module": "@jupyter-widgets/controls",
            "_model_module_version": "1.5.0",
            "_model_name": "ButtonStyleModel",
            "_view_count": null,
            "_view_module": "@jupyter-widgets/base",
            "_view_module_version": "1.2.0",
            "_view_name": "StyleView",
            "button_color": "white",
            "font_weight": ""
          }
        },
        "b266e59c386740bd854dfabecec99017": {
          "model_module": "@jupyter-widgets/controls",
          "model_name": "ButtonStyleModel",
          "model_module_version": "1.5.0",
          "state": {
            "_model_module": "@jupyter-widgets/controls",
            "_model_module_version": "1.5.0",
            "_model_name": "ButtonStyleModel",
            "_view_count": null,
            "_view_module": "@jupyter-widgets/base",
            "_view_module_version": "1.2.0",
            "_view_name": "StyleView",
            "button_color": "white",
            "font_weight": ""
          }
        },
        "91906dade3e34f1f8904bff33b693e12": {
          "model_module": "@jupyter-widgets/controls",
          "model_name": "ButtonStyleModel",
          "model_module_version": "1.5.0",
          "state": {
            "_model_module": "@jupyter-widgets/controls",
            "_model_module_version": "1.5.0",
            "_model_name": "ButtonStyleModel",
            "_view_count": null,
            "_view_module": "@jupyter-widgets/base",
            "_view_module_version": "1.2.0",
            "_view_name": "StyleView",
            "button_color": "white",
            "font_weight": ""
          }
        },
        "057a4e77d2404714b40dd00acd96d5a6": {
          "model_module": "@jupyter-widgets/controls",
          "model_name": "ButtonStyleModel",
          "model_module_version": "1.5.0",
          "state": {
            "_model_module": "@jupyter-widgets/controls",
            "_model_module_version": "1.5.0",
            "_model_name": "ButtonStyleModel",
            "_view_count": null,
            "_view_module": "@jupyter-widgets/base",
            "_view_module_version": "1.2.0",
            "_view_name": "StyleView",
            "button_color": "white",
            "font_weight": ""
          }
        },
        "ef905c6b1eb44a6997f5c303cbb95fd5": {
          "model_module": "@jupyter-widgets/controls",
          "model_name": "ButtonStyleModel",
          "model_module_version": "1.5.0",
          "state": {
            "_model_module": "@jupyter-widgets/controls",
            "_model_module_version": "1.5.0",
            "_model_name": "ButtonStyleModel",
            "_view_count": null,
            "_view_module": "@jupyter-widgets/base",
            "_view_module_version": "1.2.0",
            "_view_name": "StyleView",
            "button_color": "white",
            "font_weight": ""
          }
        },
        "dfa37c98c3e94545a95d154f1913cc1c": {
          "model_module": "@jupyter-widgets/controls",
          "model_name": "ButtonStyleModel",
          "model_module_version": "1.5.0",
          "state": {
            "_model_module": "@jupyter-widgets/controls",
            "_model_module_version": "1.5.0",
            "_model_name": "ButtonStyleModel",
            "_view_count": null,
            "_view_module": "@jupyter-widgets/base",
            "_view_module_version": "1.2.0",
            "_view_name": "StyleView",
            "button_color": "white",
            "font_weight": ""
          }
        },
        "f9145336153b4608a143ca7887cc5541": {
          "model_module": "@jupyter-widgets/controls",
          "model_name": "ButtonStyleModel",
          "model_module_version": "1.5.0",
          "state": {
            "_model_module": "@jupyter-widgets/controls",
            "_model_module_version": "1.5.0",
            "_model_name": "ButtonStyleModel",
            "_view_count": null,
            "_view_module": "@jupyter-widgets/base",
            "_view_module_version": "1.2.0",
            "_view_name": "StyleView",
            "button_color": "white",
            "font_weight": ""
          }
        },
        "70c1184a432a40b99133fc4c8c181c0b": {
          "model_module": "@jupyter-widgets/output",
          "model_name": "OutputModel",
          "model_module_version": "1.0.0",
          "state": {
            "_dom_classes": [],
            "_model_module": "@jupyter-widgets/output",
            "_model_module_version": "1.0.0",
            "_model_name": "OutputModel",
            "_view_count": null,
            "_view_module": "@jupyter-widgets/output",
            "_view_module_version": "1.0.0",
            "_view_name": "OutputView",
            "layout": "IPY_MODEL_deb34e5db6a745feb351aede35d5f7b8",
            "msg_id": "5ace0f85-8855-48c3-da11-a83531b074fa",
            "outputs": [
              {
                "output_type": "stream",
                "name": "stdout",
                "text": [
                  "END\n"
                ]
              }
            ]
          }
        },
        "deb34e5db6a745feb351aede35d5f7b8": {
          "model_module": "@jupyter-widgets/base",
          "model_name": "LayoutModel",
          "model_module_version": "1.2.0",
          "state": {
            "_model_module": "@jupyter-widgets/base",
            "_model_module_version": "1.2.0",
            "_model_name": "LayoutModel",
            "_view_count": null,
            "_view_module": "@jupyter-widgets/base",
            "_view_module_version": "1.2.0",
            "_view_name": "LayoutView",
            "align_content": null,
            "align_items": null,
            "align_self": null,
            "border": "1px solid black",
            "bottom": null,
            "display": null,
            "flex": null,
            "flex_flow": null,
            "grid_area": null,
            "grid_auto_columns": null,
            "grid_auto_flow": null,
            "grid_auto_rows": null,
            "grid_column": null,
            "grid_gap": null,
            "grid_row": null,
            "grid_template_areas": null,
            "grid_template_columns": null,
            "grid_template_rows": null,
            "height": null,
            "justify_content": null,
            "justify_items": null,
            "left": null,
            "margin": null,
            "max_height": null,
            "max_width": null,
            "min_height": null,
            "min_width": null,
            "object_fit": null,
            "object_position": null,
            "order": null,
            "overflow": null,
            "overflow_x": null,
            "overflow_y": null,
            "padding": null,
            "right": null,
            "top": null,
            "visibility": null,
            "width": null
          }
        }
      }
    }
  },
  "cells": [
    {
      "cell_type": "markdown",
      "metadata": {
        "id": "view-in-github",
        "colab_type": "text"
      },
      "source": [
        "<a href=\"https://colab.research.google.com/github/githubakira/AI_Builders/blob/main/minimaxdeployment_git.ipynb\" target=\"_parent\"><img src=\"https://colab.research.google.com/assets/colab-badge.svg\" alt=\"Open In Colab\"/></a>"
      ]
    },
    {
      "cell_type": "markdown",
      "metadata": {
        "id": "_-3RPmyhHXK5"
      },
      "source": [
        "ไปที่ Runtime แล้วกด Runall เพื่อเล่นกับ minimax"
      ]
    },
    {
      "cell_type": "code",
      "metadata": {
        "id": "4njy4NDVnBLe",
        "colab": {
          "base_uri": "https://localhost:8080/"
        },
        "outputId": "0a2e8327-e9fd-48f2-a783-6714177138e0"
      },
      "source": [
        "!git clone https://github.com/githubakira/AI_Builders.git"
      ],
      "execution_count": 1,
      "outputs": [
        {
          "output_type": "stream",
          "name": "stdout",
          "text": [
            "Cloning into 'AI_Builders'...\n",
            "remote: Enumerating objects: 182, done.\u001b[K\n",
            "remote: Counting objects: 100% (59/59), done.\u001b[K\n",
            "remote: Compressing objects: 100% (10/10), done.\u001b[K\n",
            "remote: Total 182 (delta 54), reused 49 (delta 49), pack-reused 123\u001b[K\n",
            "Receiving objects: 100% (182/182), 53.44 KiB | 841.00 KiB/s, done.\n",
            "Resolving deltas: 100% (105/105), done.\n"
          ]
        }
      ]
    },
    {
      "cell_type": "code",
      "metadata": {
        "id": "nV05_bo6nGtD"
      },
      "source": [
        "import numpy as np\n",
        "import sys\n",
        "sys.path\n",
        "sys.path.append('/content/AI_Builders')\n",
        "from Environment import *\n",
        "from Minimax import *"
      ],
      "execution_count": 2,
      "outputs": []
    },
    {
      "cell_type": "code",
      "metadata": {
        "id": "xVgqlbgrqCxw"
      },
      "source": [
        "def getComputerMove(board, computerTile, depth):\n",
        "  is_terminal = gameEnd(board)\n",
        "  valid_moves = getValidMoves(board, computerTile)\n",
        "  def minimax(node, depth, maximizingPlayer, tile):\n",
        "    if depth == 0 or gameEnd:\n",
        "        return get_heuristic(node,tile)\n",
        "    if maximizingPlayer:\n",
        "        value = -np.Inf\n",
        "        for x,y in valid_moves:\n",
        "            child = getBoardCopy(node)\n",
        "            makeMove(child, tile, x, y)\n",
        "            value = max(value, minimax(child, depth - 1, False, tile))\n",
        "        return value\n",
        "    else:\n",
        "        value = np.Inf\n",
        "        for x,y in valid_moves:\n",
        "            child = getBoardCopy(node)\n",
        "            makeMove(child, otherTile(tile), x, y)\n",
        "            value = min(value, minimax(child, depth - 1, True, tile))\n",
        "        return value\n",
        "  def score_move(board, x, y, computertile, nsteps):\n",
        "    dupeBoard = getBoardCopy(board)\n",
        "    makeMove(dupeBoard, computertile, x, y)\n",
        "    score = minimax(dupeBoard, nsteps-1, False, computertile)\n",
        "    return score\n",
        "  # print(valid_moves)\n",
        "  scores = dict(zip(list(range(len(valid_moves))), [score_move(board, ii[0], ii[1], computerTile, depth) for ii in valid_moves]))\n",
        "    # Get a list of columns (moves) that maximize the heuristic\n",
        "  max_cols = [key for key in scores.keys() if scores[key] == max(scores.values())]\n",
        "  # print(scores)\n",
        "  return valid_moves[random.choice(max_cols)]"
      ],
      "execution_count": 3,
      "outputs": []
    },
    {
      "cell_type": "code",
      "metadata": {
        "id": "FmJlTaQOnjOa",
        "colab": {
          "base_uri": "https://localhost:8080/",
          "height": 352,
          "referenced_widgets": [
            "7d6e3221abb04e50a05b3476ed5b56d9",
            "1056fd7767ed48f19dab5dc521eff176",
            "d8fbbe6e9dea4f6ba18f93a6fc66c426",
            "e9a48ce867fa4eeeb3b53e3ad9a5a569",
            "9350a02236c34c7da9b0ca7eea8895e7",
            "0177dd26ad9d4fd0a509d5835b53ae24",
            "6bf62afa94264634a96966008a87185a",
            "a2d6f1ba68b6487c95d61181c8c89ba5",
            "50708bf4be4b43c3b46674b23926ddb2",
            "47a56c5d50fe455d926396ecf242f4ef",
            "0f53c1efad93484484ef93698d2f5c5b",
            "acf2ef5476904e97b0e71dee1013eaa7",
            "a4611301900549a2a0275feb49d20320",
            "1c674243f2fe4a1986cc7f203e72e588",
            "50fce7e890f843798fce0d7da6e0b197",
            "e136e7653dc74713b8c47579c2a893e8",
            "c1feebda50534e848e2515d305bfc81b",
            "34502682f9fe4586a73d801a9df156ff",
            "01faaf2b44624daeb062cec9c266955a",
            "5386dfabeeea4129a836261764cd6349",
            "dff3b599ec534aa298ae24f02062b38f",
            "afe325d4bd784af489bb91ad8e56bf5b",
            "67ca9683a9874529a942933790d6898c",
            "22649be95abf48d5aa8c1053266e39ef",
            "b8a8af115f7f42b4b923703b1c925dae",
            "ae2af2908d6e43e798a5ba77e516b9aa",
            "df284e3c995b41ea9a21b7b485130cfa",
            "211ec572a344427f928772f863f20355",
            "db55d843e62f496b90de94ebb8d6085c",
            "de43fb0755ce480aac419707fc84325d",
            "2870bee2dbcb47d8b4aca3993e85f5d7",
            "3f254a312eb244648264729e4812033b",
            "9d420556b78e45a5a01166ac45514153",
            "bd02e8f51ced4e628d568eb45c83e4b2",
            "b12f725c2aad4cafab7533160d5b8ce0",
            "d308c987fdba47ea9b1af8dd40ccdde2",
            "43615408a3ae4b5bb0cd653b8d1fba67",
            "a6924645c11e4eb0b54328170721086a",
            "b643c75746334e889234d1c31ef0cc7f",
            "c6cacff03d8f45af8b359d8eae785f62",
            "26ec1660ee4043a0ad9fe185b93a8b73",
            "c2d9bf4c4a9948a8b3fde95af8fe6252",
            "ba66be93912e4a9dbe866ba7fda20df8",
            "f33b33ebe81c46efaa088f7a3fa3be33",
            "87410f944bca4bbbbd6dfbbeb4619e62",
            "1f7872eb6d044809b13e9ece3e0dd38f",
            "4e26536368a7439abb1934166c869146",
            "b0cf6865c2d943cd928fcc86c48660e3",
            "6f531458f6f340718a199a7886f0880a",
            "30cf3ab9170d4f329d9cff59b496cac3",
            "6507624ddbe64a5faf1ea4b0d10005cf",
            "8d5fcad581344efeae0a9762919b4bb0",
            "f14fb78d6a54415aaba7b57f2e7c8ade",
            "a94dd0f653cb470d862420623c3d3553",
            "2f8d1d3f251848c3a9fb0d1acce5468a",
            "0fb7de84596b4774923449774a805a93",
            "811638ed91914a708236f33dcefa8e1a",
            "1722e9c50e134a6a8f2df16edfb1a500",
            "671b442df56743dd8be1a62abbdcb843",
            "a321d541517641b3a742847028265516",
            "ddba50dab4664afeaff8a123aafdf7df",
            "c5fd2b45b58142639812ed215bb40d15",
            "ff3c9a618a0540f79e53484aea426d82",
            "01a2d1a2a3744dfe9227b78643f39f79",
            "04424c16600c413b975440575d48b7ac",
            "1ce411f22fd84189ab9fe63a5e6897cb",
            "62d195a47c7f4f3981ff3925960bea3a",
            "882f3f4ddc2d4220bd03c32d4e35132a",
            "195346d0f51c4bc9b39b0fa83dfddd73",
            "b266e59c386740bd854dfabecec99017",
            "91906dade3e34f1f8904bff33b693e12",
            "057a4e77d2404714b40dd00acd96d5a6",
            "ef905c6b1eb44a6997f5c303cbb95fd5",
            "dfa37c98c3e94545a95d154f1913cc1c",
            "f9145336153b4608a143ca7887cc5541",
            "70c1184a432a40b99133fc4c8c181c0b",
            "deb34e5db6a745feb351aede35d5f7b8"
          ]
        },
        "outputId": "cd205f27-416a-420b-916a-fc23712aa3f1"
      },
      "source": [
        "from ipywidgets import Layout, Button, VBox, Label, Box\n",
        "import ipywidgets as widgets\n",
        "from IPython.display import display, clear_output\n",
        "import functools\n",
        "import numpy as np\n",
        "\n",
        "def dboard(N=6):\n",
        "  for kk in range(N*N):\n",
        "    ii = kk//N\n",
        "    jj = kk%N\n",
        "    if mainBoard[ii][jj] == 1:\n",
        "      # print('1')\n",
        "      items[kk].style.button_color = 'black'\n",
        "    if mainBoard[ii][jj] == 2:\n",
        "      # print('2')\n",
        "      items[kk].style.button_color = 'white'\n",
        "  return\n",
        "\n",
        "def player(b,indx,items):\n",
        "  if makeMove(mainBoard, playerTile, indx[0], indx[1]):\n",
        "    dboard()\n",
        "    if gameEnd(mainBoard):\n",
        "      with out:\n",
        "        clear_output()\n",
        "        print('END')\n",
        "        while True:\n",
        "          1==1\n",
        "    else:\n",
        "      if len(getValidMoves(mainBoard,1)) == 0:\n",
        "        with out:\n",
        "          clear_output()\n",
        "          print('Computer has no move!')\n",
        "      else:\n",
        "        x, y = getComputerMove(mainBoard, computerTile, nstep)\n",
        "        makeMove(mainBoard, computerTile, x, y)\n",
        "        dboard()\n",
        "        with out:\n",
        "          clear_output()\n",
        "          print(getScoreOfBoard(mainBoard))\n",
        "        while len(getValidMoves(mainBoard,2)) == 0:\n",
        "          if gameEnd(mainBoard):\n",
        "            with out:\n",
        "              clear_output()\n",
        "              print('END')\n",
        "              while True:\n",
        "                1==1\n",
        "          x, y = getComputerMove(mainBoard, computerTile, nstep)\n",
        "          makeMove(mainBoard, computerTile, x, y)\n",
        "          dboard()\n",
        "          with out:\n",
        "            clear_output()\n",
        "            print(getScoreOfBoard(mainBoard))\n",
        "  else:\n",
        "    with out:\n",
        "      clear_output()\n",
        "      print('Cannot move here!')\n",
        "    return\n",
        "  return\n",
        "\n",
        "N = 6\n",
        "mainBoard = resetBoard()\n",
        "playerTile = 2\n",
        "computerTile = 1\n",
        "# turn = whoGoesFirst()\n",
        "print('เราเป็นสีขาวนะครับ')\n",
        "turn = 'player'\n",
        "print('The ' + turn + ' will go first.')\n",
        "# print('How deep do you want minimax to be?')\n",
        "# nstep = int(input())\n",
        "nstep = 3\n",
        "print('minimax will have a depth of ',nstep)\n",
        "\n",
        "item_layout = Layout(height='40px', width='40px', border = '2px solid green')\n",
        "items = [Button(layout=item_layout, description='', button_style='warning') for i in range(N*N)]\n",
        "for kk in range(N*N):\n",
        "  ii = kk//N\n",
        "  jj = kk%N\n",
        "  # print(kk,' ',ii,' ',' ',jj)\n",
        "  items[kk].on_click(functools.partial(player,indx = [ii, jj], items=items))\n",
        "dboard()\n",
        "display(widgets.GridBox(items, layout=widgets.Layout(grid_template_columns=\"repeat(\"+str(N)+\", 50px)\")))\n",
        "out = widgets.Output(layout={'border': '1px solid black'})\n",
        "display(out)"
      ],
      "execution_count": 4,
      "outputs": [
        {
          "output_type": "stream",
          "name": "stdout",
          "text": [
            "เราเป็นสีขาวนะครับ\n",
            "The player will go first.\n",
            "minimax will have a depth of  3\n"
          ]
        },
        {
          "output_type": "display_data",
          "data": {
            "text/plain": [
              "GridBox(children=(Button(button_style='warning', layout=Layout(border='2px solid green', height='40px', width=…"
            ],
            "application/vnd.jupyter.widget-view+json": {
              "version_major": 2,
              "version_minor": 0,
              "model_id": "7d6e3221abb04e50a05b3476ed5b56d9"
            }
          },
          "metadata": {}
        },
        {
          "output_type": "display_data",
          "data": {
            "text/plain": [
              "Output(layout=Layout(border='1px solid black'))"
            ],
            "application/vnd.jupyter.widget-view+json": {
              "version_major": 2,
              "version_minor": 0,
              "model_id": "70c1184a432a40b99133fc4c8c181c0b"
            }
          },
          "metadata": {}
        }
      ]
    }
  ]
}